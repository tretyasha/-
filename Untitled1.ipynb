{
  "nbformat": 4,
  "nbformat_minor": 0,
  "metadata": {
    "colab": {
      "provenance": [],
      "authorship_tag": "ABX9TyPLCvTEz3ctaNlX7gY3vzcL",
      "include_colab_link": true
    },
    "kernelspec": {
      "name": "python3",
      "display_name": "Python 3"
    },
    "language_info": {
      "name": "python"
    }
  },
  "cells": [
    {
      "cell_type": "markdown",
      "metadata": {
        "id": "view-in-github",
        "colab_type": "text"
      },
      "source": [
        "<a href=\"https://colab.research.google.com/github/tretyasha/-/blob/main/Untitled1.ipynb\" target=\"_parent\"><img src=\"https://colab.research.google.com/assets/colab-badge.svg\" alt=\"Open In Colab\"/></a>"
      ]
    },
    {
      "cell_type": "code",
      "execution_count": 1,
      "metadata": {
        "id": "PzsLNRZusySZ"
      },
      "outputs": [],
      "source": [
        "import pandas as pd"
      ]
    },
    {
      "cell_type": "code",
      "source": [
        "df=pd.read_csv('sample_data/california_housing_train.csv')"
      ],
      "metadata": {
        "id": "WpDjH9APs2Fo"
      },
      "execution_count": 2,
      "outputs": []
    },
    {
      "cell_type": "code",
      "source": [
        "# Определить среднюю стоимость дома, где кол-во людей от 0 до 500 (population).\n",
        "# df[df['population']<501]['median_house_value'].agg(['mean'])\n",
        "\n",
        "# df[df['population']<501]['median_house_value'].mean()"
      ],
      "metadata": {
        "colab": {
          "base_uri": "https://localhost:8080/"
        },
        "id": "HSe_vlYXs9Wx",
        "outputId": "86da01b4-d012-4273-d0cc-e419f8f87a37"
      },
      "execution_count": 7,
      "outputs": [
        {
          "output_type": "execute_result",
          "data": {
            "text/plain": [
              "206799.95140186916"
            ]
          },
          "metadata": {},
          "execution_count": 7
        }
      ]
    },
    {
      "cell_type": "code",
      "source": [
        "# Узнать какая максимальная households в зоне минимального значения population.\n",
        "# df[df.households==df['households'].min()]['population'].max() здесь ответ 13 получается\n",
        "\n",
        "# df[df['population']==df['population'].min()]['households'].agg(['max']) здесь 4"
      ],
      "metadata": {
        "colab": {
          "base_uri": "https://localhost:8080/"
        },
        "id": "QPjIjr43s_Ew",
        "outputId": "3a60fc25-172f-4045-fa54-881a737bd586"
      },
      "execution_count": 10,
      "outputs": [
        {
          "output_type": "execute_result",
          "data": {
            "text/plain": [
              "max    4.0\n",
              "Name: households, dtype: float64"
            ]
          },
          "metadata": {},
          "execution_count": 10
        }
      ]
    }
  ]
}